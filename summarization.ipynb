{
  "nbformat": 4,
  "nbformat_minor": 0,
  "metadata": {
    "colab": {
      "name": "summarization.ipynb",
      "provenance": [],
      "authorship_tag": "ABX9TyPuZOIVGoTS2KBlOv3miwbE",
      "include_colab_link": true
    },
    "kernelspec": {
      "name": "python3",
      "display_name": "Python 3"
    },
    "language_info": {
      "name": "python"
    },
    "accelerator": "TPU"
  },
  "cells": [
    {
      "cell_type": "markdown",
      "metadata": {
        "id": "view-in-github",
        "colab_type": "text"
      },
      "source": [
        "<a href=\"https://colab.research.google.com/github/mishav78/AI_Books/blob/master/summarization.ipynb\" target=\"_parent\"><img src=\"https://colab.research.google.com/assets/colab-badge.svg\" alt=\"Open In Colab\"/></a>"
      ]
    },
    {
      "cell_type": "code",
      "metadata": {
        "colab": {
          "base_uri": "https://localhost:8080/"
        },
        "id": "6skFek_4rep6",
        "outputId": "5629acd0-0b88-4ba8-9e4b-bbd1ab0e0ec2"
      },
      "source": [
        "!find / -iname 't5*'"
      ],
      "execution_count": 15,
      "outputs": [
        {
          "output_type": "stream",
          "name": "stdout",
          "text": [
            "/usr/src/linux-headers-4.15.0-161-generic/include/config/t5403.h\n",
            "/usr/local/lib/python3.7/dist-packages/transformers/models/t5\n"
          ]
        }
      ]
    },
    {
      "cell_type": "code",
      "metadata": {
        "colab": {
          "base_uri": "https://localhost:8080/"
        },
        "id": "Zp51IKhbQWFZ",
        "outputId": "f30b54f5-7e92-48eb-cff1-1ac716d255eb"
      },
      "source": [
        "!pip3 install transformers torch sentencepiece"
      ],
      "execution_count": null,
      "outputs": [
        {
          "output_type": "stream",
          "name": "stdout",
          "text": [
            "Requirement already satisfied: transformers in /usr/local/lib/python3.7/dist-packages (4.12.2)\n",
            "Requirement already satisfied: torch in /usr/local/lib/python3.7/dist-packages (1.9.0+cu111)\n",
            "Requirement already satisfied: sentencepiece in /usr/local/lib/python3.7/dist-packages (0.1.96)\n",
            "Requirement already satisfied: sacremoses in /usr/local/lib/python3.7/dist-packages (from transformers) (0.0.46)\n",
            "Requirement already satisfied: pyyaml>=5.1 in /usr/local/lib/python3.7/dist-packages (from transformers) (6.0)\n",
            "Requirement already satisfied: importlib-metadata in /usr/local/lib/python3.7/dist-packages (from transformers) (4.8.1)\n",
            "Requirement already satisfied: tqdm>=4.27 in /usr/local/lib/python3.7/dist-packages (from transformers) (4.62.3)\n",
            "Requirement already satisfied: packaging>=20.0 in /usr/local/lib/python3.7/dist-packages (from transformers) (21.0)\n",
            "Requirement already satisfied: huggingface-hub>=0.0.17 in /usr/local/lib/python3.7/dist-packages (from transformers) (0.0.19)\n",
            "Requirement already satisfied: filelock in /usr/local/lib/python3.7/dist-packages (from transformers) (3.3.0)\n",
            "Requirement already satisfied: requests in /usr/local/lib/python3.7/dist-packages (from transformers) (2.23.0)\n",
            "Requirement already satisfied: regex!=2019.12.17 in /usr/local/lib/python3.7/dist-packages (from transformers) (2019.12.20)\n",
            "Requirement already satisfied: tokenizers<0.11,>=0.10.1 in /usr/local/lib/python3.7/dist-packages (from transformers) (0.10.3)\n",
            "Requirement already satisfied: numpy>=1.17 in /usr/local/lib/python3.7/dist-packages (from transformers) (1.19.5)\n",
            "Requirement already satisfied: typing-extensions in /usr/local/lib/python3.7/dist-packages (from huggingface-hub>=0.0.17->transformers) (3.7.4.3)\n",
            "Requirement already satisfied: pyparsing>=2.0.2 in /usr/local/lib/python3.7/dist-packages (from packaging>=20.0->transformers) (2.4.7)\n",
            "Requirement already satisfied: zipp>=0.5 in /usr/local/lib/python3.7/dist-packages (from importlib-metadata->transformers) (3.6.0)\n",
            "Requirement already satisfied: idna<3,>=2.5 in /usr/local/lib/python3.7/dist-packages (from requests->transformers) (2.10)\n",
            "Requirement already satisfied: certifi>=2017.4.17 in /usr/local/lib/python3.7/dist-packages (from requests->transformers) (2021.5.30)\n",
            "Requirement already satisfied: chardet<4,>=3.0.2 in /usr/local/lib/python3.7/dist-packages (from requests->transformers) (3.0.4)\n",
            "Requirement already satisfied: urllib3!=1.25.0,!=1.25.1,<1.26,>=1.21.1 in /usr/local/lib/python3.7/dist-packages (from requests->transformers) (1.24.3)\n",
            "Requirement already satisfied: six in /usr/local/lib/python3.7/dist-packages (from sacremoses->transformers) (1.15.0)\n",
            "Requirement already satisfied: joblib in /usr/local/lib/python3.7/dist-packages (from sacremoses->transformers) (1.0.1)\n",
            "Requirement already satisfied: click in /usr/local/lib/python3.7/dist-packages (from sacremoses->transformers) (7.1.2)\n"
          ]
        }
      ]
    },
    {
      "cell_type": "code",
      "metadata": {
        "id": "nLaEMh3E7b8w"
      },
      "source": [
        "from transformers import T5ForConditionalGeneration, T5Tokenizer\n",
        "# initialize the model architecture and weights\n",
        "model = T5ForConditionalGeneration.from_pretrained(\"t5-base\")\n",
        "# initialize the model tokenizer\n",
        "tokenizer = T5Tokenizer.from_pretrained(\"t5-base\")"
      ],
      "execution_count": null,
      "outputs": []
    },
    {
      "cell_type": "code",
      "metadata": {
        "id": "QV-sw7TLNGcc"
      },
      "source": [
        "article = \"\"\"Taxonomical classification is how scientists classify organisms according to the hierarchy you see here. The taxonomy of the dog reflects that he is a member of the animal kingdom, or Animalia. The phylum Chordata, which includes those animals that are chordates or vertebrates, meaning they have a backbone. Dogs are classified in the class Mammalia, so they are mammals. Besides mammals, remember that other classes of chordates include fish, birds, reptiles, and amphibians. Dogs are further classified in the Carnivora order and the Canidae family. The genus Canis and species lupus of the dog are the same as that of the wolf. The dog is then classified as a subspecies, familiaris, of Canis lupus. Now be aware that you will find references that classify dogs as their own species, Canis familiaris, as well as references that classify dogs as they are here, as a subspecies of wolf. This is an ongoing discussion among scientists, so for the purposes of this class we will consider the dog as a subspecies of wolf, but be aware that there is discussion ongoing.\"\"\"\n"
      ],
      "execution_count": null,
      "outputs": []
    },
    {
      "cell_type": "code",
      "metadata": {
        "id": "WFBU2eWeNjMf",
        "colab": {
          "base_uri": "https://localhost:8080/"
        },
        "outputId": "516f2aae-959a-42c3-cfa2-ec3fcd2ea0c5"
      },
      "source": [
        "# encode the text into tensor of integers using the appropriate tokenizer\n",
        "inputs = tokenizer.encode(\"summarize: \" + article, return_tensors=\"pt\", max_length=512, truncation=True)\n",
        "# generate the summarization output\n",
        "outputs = model.generate(\n",
        "    inputs, \n",
        "    max_length=150, \n",
        "    min_length=40, \n",
        "    length_penalty=2.0, \n",
        "    num_beams=4, \n",
        "    early_stopping=True)\n",
        "# just for debugging\n",
        "print(outputs)\n",
        "print(tokenizer.decode(outputs[0]))"
      ],
      "execution_count": null,
      "outputs": [
        {
          "output_type": "stream",
          "name": "stdout",
          "text": [
            "tensor([[    0,     8,  1104,    32,  3114,    63,    13,     8,  1782,     3,\n",
            "         17441,    24,     3,    88,    19,     3,     9,  1144,    13,     8,\n",
            "          2586, 14740,     6,    42, 10089,    23,     9,     3,     5,   119,\n",
            "          2287,    13, 20513,  6203,   560,  2495,     6,  6331,     6,  3852,\n",
            "          8806,     7,     6,    11, 11483, 13506,  3247,     3,     5,     8,\n",
            "          1782,    19,   258, 12910,    38,     3,     9,   769,  7576,   725,\n",
            "            13,  1072,   159,     3,    40,   413,   302,     3,     5,     1]])\n",
            "<pad> the taxonomy of the dog reflects that he is a member of the animal kingdom, or Animalia. other classes of chordates include fish, birds, reptiles, and amphibians. the dog is then classified as a subspecies of Canis lupus.</s>\n"
          ]
        }
      ]
    }
  ]
}